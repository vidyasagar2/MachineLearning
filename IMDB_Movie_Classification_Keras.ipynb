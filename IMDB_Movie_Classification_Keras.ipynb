{
  "nbformat": 4,
  "nbformat_minor": 0,
  "metadata": {
    "colab": {
      "name": "IMDB Movie Classification-Keras.ipynb",
      "version": "0.3.2",
      "provenance": [],
      "include_colab_link": true
    },
    "kernelspec": {
      "name": "python3",
      "display_name": "Python 3"
    }
  },
  "cells": [
    {
      "cell_type": "markdown",
      "metadata": {
        "id": "view-in-github",
        "colab_type": "text"
      },
      "source": [
        "<a href=\"https://colab.research.google.com/github/vidyasagar2/MachineLearning/blob/master/IMDB_Movie_Classification_Keras.ipynb\" target=\"_parent\"><img src=\"https://colab.research.google.com/assets/colab-badge.svg\" alt=\"Open In Colab\"/></a>"
      ]
    },
    {
      "metadata": {
        "id": "ErnVwxwkh9O8",
        "colab_type": "code",
        "outputId": "dc9b6274-838c-44a1-882b-2361886f7464",
        "colab": {
          "base_uri": "https://localhost:8080/",
          "height": 51
        }
      },
      "cell_type": "code",
      "source": [
        "from tensorflow import keras\n",
        "from tensorflow.keras.datasets import imdb\n",
        "(train_data,train_labels),(test_data,test_labels) = imdb.load_data(num_words=10000)"
      ],
      "execution_count": 0,
      "outputs": [
        {
          "output_type": "stream",
          "text": [
            "Downloading data from https://storage.googleapis.com/tensorflow/tf-keras-datasets/imdb.npz\n",
            "17465344/17464789 [==============================] - 0s 0us/step\n"
          ],
          "name": "stdout"
        }
      ]
    },
    {
      "metadata": {
        "id": "hVYcCcHFigl1",
        "colab_type": "code",
        "outputId": "8fa10ffc-9fa7-42ae-8a5f-bb59641bb10e",
        "colab": {
          "base_uri": "https://localhost:8080/",
          "height": 34
        }
      },
      "cell_type": "code",
      "source": [
        "train_labels[0]"
      ],
      "execution_count": 0,
      "outputs": [
        {
          "output_type": "execute_result",
          "data": {
            "text/plain": [
              "1"
            ]
          },
          "metadata": {
            "tags": []
          },
          "execution_count": 5
        }
      ]
    },
    {
      "metadata": {
        "id": "oxn30c9Wjmp5",
        "colab_type": "code",
        "colab": {}
      },
      "cell_type": "code",
      "source": [
        "import numpy as np\n",
        "def vectorize_sequences(sequences, dimension=10000):\n",
        "  results = np.zeros((len(sequences), dimension))\n",
        "  for i, sequence in enumerate(sequences):\n",
        "    results[i, sequence] = 1.\n",
        "  return results\n",
        "  \n",
        "x_train = vectorize_sequences(train_data)\n",
        "x_test = vectorize_sequences(test_data)"
      ],
      "execution_count": 0,
      "outputs": []
    },
    {
      "metadata": {
        "id": "d0GfP3QRk8PV",
        "colab_type": "code",
        "outputId": "66f30c7a-fe24-4a79-ff51-693a9e8a9c2e",
        "colab": {
          "base_uri": "https://localhost:8080/",
          "height": 34
        }
      },
      "cell_type": "code",
      "source": [
        "import numpy as np\n",
        "mat = np.zeros((1,3))\n",
        "mat[0,[0,1]] = 1\n",
        "mat"
      ],
      "execution_count": 0,
      "outputs": [
        {
          "output_type": "execute_result",
          "data": {
            "text/plain": [
              "array([[1., 1., 0.]])"
            ]
          },
          "metadata": {
            "tags": []
          },
          "execution_count": 19
        }
      ]
    },
    {
      "metadata": {
        "id": "CQTTCq6dko_D",
        "colab_type": "code",
        "colab": {}
      },
      "cell_type": "code",
      "source": [
        "y_train = np.asarray(train_labels).astype('float32')\n",
        "y_test = np.asarray(test_labels).astype('float32')"
      ],
      "execution_count": 0,
      "outputs": []
    },
    {
      "metadata": {
        "id": "9tCG8Tcjk6Eq",
        "colab_type": "code",
        "outputId": "51abe8e6-f3a1-4179-f963-1efa1cf083dc",
        "colab": {
          "base_uri": "https://localhost:8080/",
          "height": 34
        }
      },
      "cell_type": "code",
      "source": [
        "x_train[0]"
      ],
      "execution_count": 0,
      "outputs": [
        {
          "output_type": "execute_result",
          "data": {
            "text/plain": [
              "array([0., 1., 1., ..., 0., 0., 0.])"
            ]
          },
          "metadata": {
            "tags": []
          },
          "execution_count": 10
        }
      ]
    },
    {
      "metadata": {
        "id": "YxMQhee0k8zl",
        "colab_type": "code",
        "colab": {}
      },
      "cell_type": "code",
      "source": [
        "from keras import models\n",
        "from keras import layers\n",
        "model = models.Sequential()\n",
        "model.add(layers.Dense(16,activation='relu',input_shape=(10000,)))\n",
        "model.add(layers.Dense(16,activation='relu'))\n",
        "model.add(layers.Dense(1,activation='sigmoid'))"
      ],
      "execution_count": 0,
      "outputs": []
    },
    {
      "metadata": {
        "id": "wZi_z38CmWVM",
        "colab_type": "text"
      },
      "cell_type": "markdown",
      "source": [
        "Page No.70 - Deep Learning With Python By FC.\n",
        "Without an activation function like relu(also called a non-linearity)  ,  the layers would consis of linear operations(a dot product and an addition).\n",
        "So how many layers we add , it will still be a linear operations.By adding non-linearity , we get much richer hypothesis plane."
      ]
    },
    {
      "metadata": {
        "id": "sRTHu35pnPmP",
        "colab_type": "code",
        "colab": {}
      },
      "cell_type": "code",
      "source": [
        "model.compile(optimizer='rmsprop',loss='binary_crossentropy',metrics=['accuracy'])"
      ],
      "execution_count": 0,
      "outputs": []
    },
    {
      "metadata": {
        "id": "mzEtU4KwoJOq",
        "colab_type": "code",
        "colab": {}
      },
      "cell_type": "code",
      "source": [
        "x_val = x_train[:10000]\n",
        "partial_x_train = x_train[10000:]\n",
        "y_val = y_train[:10000]\n",
        "partial_y_train = y_train[10000:]"
      ],
      "execution_count": 0,
      "outputs": []
    },
    {
      "metadata": {
        "id": "E3JBRAhVoP5A",
        "colab_type": "code",
        "outputId": "12235de4-e522-4125-d136-40e2bb9848d4",
        "colab": {
          "base_uri": "https://localhost:8080/",
          "height": 714
        }
      },
      "cell_type": "code",
      "source": [
        "history = model.fit(partial_x_train,partial_y_train,epochs=20,batch_size=512,validation_data=(x_val,y_val))"
      ],
      "execution_count": 0,
      "outputs": [
        {
          "output_type": "stream",
          "text": [
            "Train on 15000 samples, validate on 10000 samples\n",
            "Epoch 1/20\n",
            "15000/15000 [==============================] - 4s 244us/step - loss: 0.5348 - acc: 0.7942 - val_loss: 0.4215 - val_acc: 0.8576\n",
            "Epoch 2/20\n",
            "15000/15000 [==============================] - 3s 179us/step - loss: 0.3319 - acc: 0.9011 - val_loss: 0.3220 - val_acc: 0.8847\n",
            "Epoch 3/20\n",
            "15000/15000 [==============================] - 3s 175us/step - loss: 0.2413 - acc: 0.9263 - val_loss: 0.2938 - val_acc: 0.8846\n",
            "Epoch 4/20\n",
            "15000/15000 [==============================] - 3s 175us/step - loss: 0.1893 - acc: 0.9382 - val_loss: 0.2754 - val_acc: 0.8895\n",
            "Epoch 5/20\n",
            "15000/15000 [==============================] - 3s 175us/step - loss: 0.1552 - acc: 0.9509 - val_loss: 0.2756 - val_acc: 0.8892\n",
            "Epoch 6/20\n",
            "15000/15000 [==============================] - 3s 172us/step - loss: 0.1299 - acc: 0.9604 - val_loss: 0.2839 - val_acc: 0.8865\n",
            "Epoch 7/20\n",
            "15000/15000 [==============================] - 3s 175us/step - loss: 0.1107 - acc: 0.9665 - val_loss: 0.2987 - val_acc: 0.8848\n",
            "Epoch 8/20\n",
            "15000/15000 [==============================] - 3s 177us/step - loss: 0.0911 - acc: 0.9734 - val_loss: 0.3164 - val_acc: 0.8850\n",
            "Epoch 9/20\n",
            "15000/15000 [==============================] - 3s 177us/step - loss: 0.0749 - acc: 0.9797 - val_loss: 0.3425 - val_acc: 0.8783\n",
            "Epoch 10/20\n",
            "15000/15000 [==============================] - 3s 178us/step - loss: 0.0628 - acc: 0.9831 - val_loss: 0.3610 - val_acc: 0.8803\n",
            "Epoch 11/20\n",
            "15000/15000 [==============================] - 3s 176us/step - loss: 0.0534 - acc: 0.9870 - val_loss: 0.3841 - val_acc: 0.8793\n",
            "Epoch 12/20\n",
            "15000/15000 [==============================] - 3s 176us/step - loss: 0.0439 - acc: 0.9899 - val_loss: 0.4134 - val_acc: 0.8733\n",
            "Epoch 13/20\n",
            "15000/15000 [==============================] - 3s 176us/step - loss: 0.0370 - acc: 0.9920 - val_loss: 0.4348 - val_acc: 0.8752\n",
            "Epoch 14/20\n",
            "15000/15000 [==============================] - 3s 173us/step - loss: 0.0322 - acc: 0.9927 - val_loss: 0.4948 - val_acc: 0.8699\n",
            "Epoch 15/20\n",
            "15000/15000 [==============================] - 3s 169us/step - loss: 0.0230 - acc: 0.9964 - val_loss: 0.4921 - val_acc: 0.8719\n",
            "Epoch 16/20\n",
            "15000/15000 [==============================] - 3s 169us/step - loss: 0.0225 - acc: 0.9957 - val_loss: 0.5271 - val_acc: 0.8708\n",
            "Epoch 17/20\n",
            "15000/15000 [==============================] - 3s 171us/step - loss: 0.0141 - acc: 0.9986 - val_loss: 0.5557 - val_acc: 0.8691\n",
            "Epoch 18/20\n",
            "15000/15000 [==============================] - 3s 175us/step - loss: 0.0132 - acc: 0.9985 - val_loss: 0.5899 - val_acc: 0.8660\n",
            "Epoch 19/20\n",
            "15000/15000 [==============================] - 3s 174us/step - loss: 0.0104 - acc: 0.9991 - val_loss: 0.6233 - val_acc: 0.8659\n",
            "Epoch 20/20\n",
            "15000/15000 [==============================] - 3s 174us/step - loss: 0.0088 - acc: 0.9992 - val_loss: 0.6544 - val_acc: 0.8652\n"
          ],
          "name": "stdout"
        }
      ]
    },
    {
      "metadata": {
        "id": "Cxfnh-ZFo5jg",
        "colab_type": "code",
        "colab": {}
      },
      "cell_type": "code",
      "source": [
        "history_dict = history.history"
      ],
      "execution_count": 0,
      "outputs": []
    },
    {
      "metadata": {
        "id": "xd1VXGw0pK6c",
        "colab_type": "code",
        "outputId": "98edcf74-306f-46e8-88e4-71e49af9985a",
        "colab": {
          "base_uri": "https://localhost:8080/",
          "height": 34
        }
      },
      "cell_type": "code",
      "source": [
        "history_dict.keys()"
      ],
      "execution_count": 0,
      "outputs": [
        {
          "output_type": "execute_result",
          "data": {
            "text/plain": [
              "dict_keys(['val_loss', 'val_acc', 'loss', 'acc'])"
            ]
          },
          "metadata": {
            "tags": []
          },
          "execution_count": 19
        }
      ]
    },
    {
      "metadata": {
        "id": "621vaHQMpOlt",
        "colab_type": "code",
        "outputId": "9320a511-7c8b-40d1-8a76-e5954868642a",
        "colab": {
          "base_uri": "https://localhost:8080/",
          "height": 376
        }
      },
      "cell_type": "code",
      "source": [
        "import matplotlib.pyplot as plt\n",
        "history_dict = history.history\n",
        "loss_values = history_dict['loss']\n",
        "val_loss_values = history_dict['val_loss']\n",
        "epochs = range(1, 21)\n",
        "plt.plot(epochs, loss_values, 'bo', label='Training loss')\n",
        "plt.plot(epochs, val_loss_values, 'b', label='Validation loss')\n",
        "plt.title('Training and validation loss')\n",
        "plt.xlabel('Epochs')\n",
        "plt.ylabel('Loss')\n",
        "plt.legend()\n",
        "plt.show()"
      ],
      "execution_count": 0,
      "outputs": [
        {
          "output_type": "display_data",
          "data": {
            "image/png": "[encoded data removed]",
            "text/plain": [
              "<matplotlib.figure.Figure at 0x7f7b0cd546d8>"
            ]
          },
          "metadata": {
            "tags": []
          }
        }
      ]
    },
    {
      "metadata": {
        "id": "kyfrIS4zqANx",
        "colab_type": "code",
        "colab": {}
      },
      "cell_type": "code",
      "source": [
        ""
      ],
      "execution_count": 0,
      "outputs": []
    }
  ]
}